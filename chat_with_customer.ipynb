{
 "cells": [
  {
   "cell_type": "code",
   "execution_count": 170,
   "id": "2282687a-53c5-4d61-8d41-91464ff1e29d",
   "metadata": {},
   "outputs": [],
   "source": [
    "import os\n",
    "import requests\n",
    "from dotenv import load_dotenv\n",
    "from openai import OpenAI\n",
    "import ollama\n",
    "import anthropic\n",
    "from bs4 import BeautifulSoup\n",
    "from IPython.display import Markdown, display, update_display"
   ]
  },
  {
   "cell_type": "code",
   "execution_count": 171,
   "id": "4f7849ee-cd5f-4d69-9adc-d782b767ad28",
   "metadata": {},
   "outputs": [
    {
     "name": "stdout",
     "output_type": "stream",
     "text": [
      "OpenAI API Key exists and begins sk-proj-\n",
      "Anthropic API Key exists and begins sk-ant-\n",
      "Google API Key exists and begins AIzaSyAh\n"
     ]
    }
   ],
   "source": [
    "# Load environment variables in a file called .env\n",
    "# Print the key prefixes to help with any debugging\n",
    "\n",
    "load_dotenv()\n",
    "openai_api_key = os.getenv('OPENAI_API_KEY')\n",
    "anthropic_api_key = os.getenv('ANTHROPIC_API_KEY')\n",
    "google_api_key = os.getenv('GOOGLE_API_KEY')\n",
    "\n",
    "if openai_api_key:\n",
    "    print(f\"OpenAI API Key exists and begins {openai_api_key[:8]}\")\n",
    "else:\n",
    "    print(\"OpenAI API Key not set\")\n",
    "    \n",
    "if anthropic_api_key:\n",
    "    print(f\"Anthropic API Key exists and begins {anthropic_api_key[:7]}\")\n",
    "else:\n",
    "    print(\"Anthropic API Key not set\")\n",
    "\n",
    "if google_api_key:\n",
    "    print(f\"Google API Key exists and begins {google_api_key[:8]}\")\n",
    "else:\n",
    "    print(\"Google API Key not set\")"
   ]
  },
  {
   "cell_type": "code",
   "execution_count": 172,
   "id": "fcd1d6fc-28a1-4e41-9134-b8b1484eb112",
   "metadata": {},
   "outputs": [],
   "source": [
    "# Connect to OpenAI, Anthropic and Google\n",
    "# All 3 APIs are similar\n",
    "MODEL = 'ollama3.2'\n",
    "openai = OpenAI()\n",
    "\n",
    "client = anthropic.Anthropic()"
   ]
  },
  {
   "cell_type": "code",
   "execution_count": 173,
   "id": "5635f806-24d6-412d-aabc-6d17470e34cc",
   "metadata": {},
   "outputs": [],
   "source": [
    "# websie class\n",
    "class Website:\n",
    "\n",
    "    def __init__(self, url):\n",
    "        \"\"\"\n",
    "        Create this Website object from the given url using the BeautifulSoup library\n",
    "        \"\"\"\n",
    "        self.url = url\n",
    "        response = requests.get(url)\n",
    "        soup = BeautifulSoup(response.content, 'html.parser')\n",
    "        self.title = soup.title.string if soup.title else \"No title found\"\n",
    "        for irrelevant in soup.body([\"script\", \"style\", \"img\", \"input\"]):\n",
    "            irrelevant.decompose()\n",
    "        self.text = soup.body.get_text(separator=\"\\n\", strip=True)"
   ]
  },
  {
   "cell_type": "code",
   "execution_count": 179,
   "id": "029630c2-e2ba-4e91-916b-59249fa1baf7",
   "metadata": {},
   "outputs": [],
   "source": [
    "plans = Website(\"https://www.t-mobile.com/cell-phone-plans\")\n",
    "phones = Website(\"https://www.t-mobile.com/cell-phones?INTNAV=tNav%3ADevices\")\n",
    "deals = Website(\"https://www.t-mobile.com/offers?INTNAV=tNav%3ADeals%3AAll\")\n",
    "paymentArrangment = Website(\"https://www.t-mobile.com/support/account/payment-arrangement\")\n",
    "payment = Website(\"https://www.t-mobile.com/support/account/pay-your-bill\")"
   ]
  },
  {
   "cell_type": "code",
   "execution_count": 191,
   "id": "2a6fda25-f86a-4dcf-b3cd-671dc2203039",
   "metadata": {},
   "outputs": [],
   "source": [
    "system_prompt = (\n",
    "    f\"You are a professional AI assistant designed to assist customers with inquiries about T-Mobile services, \"\n",
    "    f\"including plans, phones, deals, and payment arrangements. Your responses must be accurate, clear, and concise, \"\n",
    "    f\"using the provided information as reference.\\n\\n\"\n",
    "    f\"Available Information Sources:\\n\"\n",
    "    f\"- Plans: {plans.text}\\n\"\n",
    "    f\"- Phones: {phones.text}\\n\"\n",
    "    f\"- Deals: {deals.text}\\n\"\n",
    "    f\"- Payment Arrangements: {paymentArrangment.text}\\n\\n\"\n",
    "    f\"- Make a payment: {payment.text}\"\n",
    "    f\"Guidelines for Response:\\n\"\n",
    "    f\"1. Always include the appropriate link(s) in your response.\\n\"\n",
    "    f\"2. If the customer mentions 'Agent', 'customer service', 'representative', or 'human', respond with:\\n\"\n",
    "    f\"   'I will get you to a representative shortly!'\\n\"\n",
    "    f\"3. If the customer asks a question in Spanish, respond with:\\n\"\n",
    "    f\"   'I can't assist in Spanish. I'm transferring you shortly to a live agent.'\\n\"\n",
    "    f\"4. If the customer asks account-specific questions (e.g., accessing their account, PIN requests, or similar), respond with:\\n\"\n",
    "    f\"   'I'm sorry, but I can't access your account. Please reach out to a representative for further assistance.'\\n\\n\"\n",
    "    f\"5. If the customer asks about plan price, provide the price with autopay included, and mention it.\\n\\n\"\n",
    "    f\"Your role is to ensure a seamless and helpful customer experience using the provided resources. Follow these guidelines closely.\"\n",
    ")\n"
   ]
  },
  {
   "cell_type": "code",
   "execution_count": 192,
   "id": "8812438c-9cd8-4709-92e8-d12cb6681522",
   "metadata": {},
   "outputs": [],
   "source": [
    "user_prompt = \"How much is my bill\"\n"
   ]
  },
  {
   "cell_type": "code",
   "execution_count": 193,
   "id": "52950666-1e39-40c1-89c0-49d50e80b7a8",
   "metadata": {},
   "outputs": [],
   "source": [
    "# See how this function creates exactly the format above\n",
    "def messages_for(question):\n",
    "    return [\n",
    "        { \"role\": \"system\", \"content\": system_prompt},\n",
    "        { \"role\": \"user\", \"content\": question}\n",
    "    ]"
   ]
  },
  {
   "cell_type": "code",
   "execution_count": 194,
   "id": "075a2074-87f5-4a00-b8fe-6db361cad5c0",
   "metadata": {},
   "outputs": [],
   "source": [
    "# OpenAI answer\n",
    "def ask_ai(question):\n",
    "    stream = openai.chat.completions.create(\n",
    "        model='gpt-4o-mini',\n",
    "        messages = messages_for(question),\n",
    "        max_tokens=1000,\n",
    "        stream=True\n",
    "    )\n",
    "    reply = \"\"\n",
    "    display_handle = display(Markdown(\"\"), display_id=True)\n",
    "    for chunk in stream:\n",
    "        reply += chunk.choices[0].delta.content or ''\n",
    "        reply = reply.replace(\"```\",\"\").replace(\"markdown\",\"\")\n",
    "        update_display(Markdown(reply), display_id=display_handle.display_id)"
   ]
  },
  {
   "cell_type": "code",
   "execution_count": 110,
   "id": "37d7956c-3109-4c0d-8e6c-7c0ac51fb235",
   "metadata": {},
   "outputs": [
    {
     "data": {
      "text/markdown": [
       "To set up a payment arrangement for your T-Mobile account, please follow these steps:\n",
       "\n",
       "1. **Eligibility**: Ensure you are eligible. You must be a postpaid customer in good standing, and your account must be less than 30 days past the due date to initiate a payment arrangement. Any balance that is 31 or more days past due must be paid before you can set up a payment arrangement.\n",
       "\n",
       "2. **Use T Life App**:\n",
       "   - Open the **T Life** app.\n",
       "   - Select the **Manage** tab.\n",
       "   - Choose **Set up a payment arrangement**.\n",
       "   - Edit the payment amount if necessary to change the default amount.\n",
       "   - Select the payment method you wish to use.\n",
       "   - Edit the payment date to choose when to process the payment, then select **Update**.\n",
       "   - Once your Future Dated Payment is set up, select **Agree** and submit. When the payment processes, select **Done**.\n",
       "\n",
       "3. **Important Notes**:\n",
       "   - Your AutoPay will pause during the payment arrangement and will resume once the arrangement is completed or deleted.\n",
       "   - Ensure that all new bills due during the arrangement are paid on time.\n",
       "   - Any failure to meet the payment criteria may result in the arrangement failing and possible service suspension.\n",
       "\n",
       "If you need further assistance or have specific account inquiries, please reach out to a representative for help."
      ],
      "text/plain": [
       "<IPython.core.display.Markdown object>"
      ]
     },
     "metadata": {},
     "output_type": "display_data"
    }
   ],
   "source": [
    "ask_ai(\"How to set up a payement arrengment?\")"
   ]
  },
  {
   "cell_type": "code",
   "execution_count": 185,
   "id": "06c94e81-a803-44ed-9a75-66b4d8825f91",
   "metadata": {},
   "outputs": [
    {
     "data": {
      "text/markdown": [
       "You can make a payment using several convenient methods:\n",
       "\n",
       "1. **Online One-Time Payment**: \n",
       "   - Pay as a guest without logging in or make a guest payment for someone else.\n",
       "   - Pay online from your T-Mobile account.\n",
       "   - You can also check your bill and payment options or view/download past bills.\n",
       "\n",
       "2. **Using the T-Life App**: \n",
       "   - Open the app and go to the \"Manage\" tab to make a payment.\n",
       "\n",
       "3. **Bill Pay from Your Bank**: \n",
       "   - Set up bill pay through your bank or credit union by providing your T-Mobile account number. \n",
       "   - For setup, you may need to contact your bank or log into your online banking account. Here are the payee details:\n",
       "     - Payee Name: T-Mobile\n",
       "     - Payment Address: \n",
       "       T-Mobile  \n",
       "       P.O. Box 742596  \n",
       "       Cincinnati, OH 45274-2596\n",
       "\n",
       "4. **Mail**: \n",
       "   - Send your payment to the address above, allowing at least five days for processing.\n",
       "\n",
       "5. **In-Store Payment**: \n",
       "   - You can find a store near you to make your payment in person. Note: effective July 19, 2023, there is a $5 charge for in-store payments plus taxes.\n",
       "\n",
       "6. **T-Mobile MONEY**: \n",
       "   - Use your T-Mobile MONEY debit card for a one-time payment or AutoPay.\n",
       "\n",
       "For more details on payment options, please visit the T-Mobile website or [set up your payment arrangement here](https://www.t-mobile.com)."
      ],
      "text/plain": [
       "<IPython.core.display.Markdown object>"
      ]
     },
     "metadata": {},
     "output_type": "display_data"
    }
   ],
   "source": [
    "ask_ai(\"How to make a payment?\")"
   ]
  },
  {
   "cell_type": "code",
   "execution_count": 195,
   "id": "a4591be7-ed55-481d-a7c8-c525a199fe73",
   "metadata": {},
   "outputs": [
    {
     "data": {
      "text/markdown": [
       "The price for 2 lines on the Go5G plan is $180 per month, which includes taxes and fees. This price reflects the AutoPay discount for eligible payment methods."
      ],
      "text/plain": [
       "<IPython.core.display.Markdown object>"
      ]
     },
     "metadata": {},
     "output_type": "display_data"
    }
   ],
   "source": [
    "ask_ai(\"How much is 2 lines on go5g?\")"
   ]
  },
  {
   "cell_type": "code",
   "execution_count": null,
   "id": "51569ed3-1927-4a3f-98bf-183c1dc7eb70",
   "metadata": {},
   "outputs": [],
   "source": []
  }
 ],
 "metadata": {
  "kernelspec": {
   "display_name": "Python 3 (ipykernel)",
   "language": "python",
   "name": "python3"
  },
  "language_info": {
   "codemirror_mode": {
    "name": "ipython",
    "version": 3
   },
   "file_extension": ".py",
   "mimetype": "text/x-python",
   "name": "python",
   "nbconvert_exporter": "python",
   "pygments_lexer": "ipython3",
   "version": "3.11.10"
  }
 },
 "nbformat": 4,
 "nbformat_minor": 5
}
