{
 "cells": [
  {
   "cell_type": "code",
   "execution_count": 58,
   "id": "2282687a-53c5-4d61-8d41-91464ff1e29d",
   "metadata": {},
   "outputs": [],
   "source": [
    "import os\n",
    "import requests\n",
    "from dotenv import load_dotenv\n",
    "from openai import OpenAI\n",
    "import ollama\n",
    "import anthropic\n",
    "from bs4 import BeautifulSoup\n",
    "from IPython.display import Markdown, display, update_display\n"
   ]
  },
  {
   "cell_type": "code",
   "execution_count": 59,
   "id": "4f7849ee-cd5f-4d69-9adc-d782b767ad28",
   "metadata": {},
   "outputs": [
    {
     "name": "stdout",
     "output_type": "stream",
     "text": [
      "OpenAI API Key exists and begins sk-proj-\n",
      "Anthropic API Key exists and begins sk-ant-\n",
      "Google API Key exists and begins AIzaSyAh\n"
     ]
    }
   ],
   "source": [
    "# Load environment variables in a file called .env\n",
    "# Print the key prefixes to help with any debugging\n",
    "\n",
    "load_dotenv()\n",
    "openai_api_key = os.getenv('OPENAI_API_KEY')\n",
    "anthropic_api_key = os.getenv('ANTHROPIC_API_KEY')\n",
    "google_api_key = os.getenv('GOOGLE_API_KEY')\n",
    "\n",
    "if openai_api_key:\n",
    "    print(f\"OpenAI API Key exists and begins {openai_api_key[:8]}\")\n",
    "else:\n",
    "    print(\"OpenAI API Key not set\")\n",
    "    \n",
    "if anthropic_api_key:\n",
    "    print(f\"Anthropic API Key exists and begins {anthropic_api_key[:7]}\")\n",
    "else:\n",
    "    print(\"Anthropic API Key not set\")\n",
    "\n",
    "if google_api_key:\n",
    "    print(f\"Google API Key exists and begins {google_api_key[:8]}\")\n",
    "else:\n",
    "    print(\"Google API Key not set\")"
   ]
  },
  {
   "cell_type": "code",
   "execution_count": 60,
   "id": "fcd1d6fc-28a1-4e41-9134-b8b1484eb112",
   "metadata": {},
   "outputs": [],
   "source": [
    "# Connect to OpenAI, Anthropic and Google\n",
    "# All 3 APIs are similar\n",
    "MODEL = 'ollama3.2'\n",
    "openai = OpenAI()\n",
    "\n",
    "client = anthropic.Anthropic()"
   ]
  },
  {
   "cell_type": "code",
   "execution_count": 61,
   "id": "5635f806-24d6-412d-aabc-6d17470e34cc",
   "metadata": {},
   "outputs": [],
   "source": [
    "# websie class\n",
    "class Website:\n",
    "\n",
    "    def __init__(self, url):\n",
    "        \n",
    "        self.url = url\n",
    "        response = requests.get(url)\n",
    "        soup = BeautifulSoup(response.content, 'html.parser')\n",
    "        self.title = soup.title.string if soup.title else \"No title found\"\n",
    "        for irrelevant in soup.body([\"script\", \"style\", \"img\", \"input\"]):\n",
    "            irrelevant.decompose()\n",
    "        self.text = soup.body.get_text(separator=\"\\n\", strip=True)"
   ]
  },
  {
   "cell_type": "code",
   "execution_count": 62,
   "id": "029630c2-e2ba-4e91-916b-59249fa1baf7",
   "metadata": {},
   "outputs": [],
   "source": [
    "# Scrape list\n",
    "plans = Website(\"https://www.t-mobile.com/cell-phone-plans\")\n",
    "phones = Website(\"https://www.t-mobile.com/cell-phones?INTNAV=tNav%3ADevices\")\n",
    "deals = Website(\"https://www.t-mobile.com/offers?INTNAV=tNav%3ADeals%3AAll\")\n",
    "payment_arrangement = Website(\"https://www.t-mobile.com/support/account/payment-arrangement\")\n",
    "payment = Website(\"https://www.t-mobile.com/support/account/pay-your-bill\")\n",
    "autopay = Website(\"https://www.t-mobile.com/support/account/autopay\")\n",
    "set_up_manage_your_TMO_id = Website(\"https://www.t-mobile.com/support/account/set-up-and-manage-your-t-mobile-id\")\n",
    "international_roaming = Website(\"https://www.t-mobile.com/support/coverage/international-roaming-services\")\n",
    "international_roaming_checklist = Website(\"https://www.t-mobile.com/support/coverage/international-roaming-checklist\")\n",
    "wi_fi_calling = Website(\"https://www.t-mobile.com/support/coverage/wi-fi-calling-from-t-mobile\")\n",
    "in_flight_connection = Website(\"https://www.t-mobile.com/support/coverage/t-mobile-in-flight-connections-on-us\")"
   ]
  },
  {
   "cell_type": "code",
   "execution_count": 63,
   "id": "2a6fda25-f86a-4dcf-b3cd-671dc2203039",
   "metadata": {},
   "outputs": [],
   "source": [
    "system_prompt = (\n",
    "    f\"You are a professional AI assistant designed to assist customers with inquiries about T-Mobile services, \"\n",
    "    f\"including plans, phones, deals, and any other requests. Your responses must be accurate, clear, and concise, \"\n",
    "    f\"using the provided information as reference.\\n\\n\"\n",
    "    f\"Available Information Sources:\\n\"\n",
    "    f\"- Plans: {plans.text}\\n\"\n",
    "    f\"- Phones: {phones.text}\\n\"\n",
    "    f\"- Deals: {deals.text}\\n\"\n",
    "    f\"- Payment arrangement: {payment_arrangement.text}\\n\"\n",
    "    f\"- Payment: {payment.text}\\n\"\n",
    "    f\"- AutoPay: {autopay.text}\\n\"\n",
    "    f\"- Set Up and Manage Your T-Mobile ID:** {set_up_manage_your_TMO_id.text}\\n\"\n",
    "    f\"- International Roaming Services: {international_roaming.text}\\n\"\n",
    "    f\"- International Roaming Checklist: {international_roaming_checklist.text}\\n\\n\"\n",
    "    f\"- WI-FI Calling: {wi_fi_calling.text}\\n\\n\"\n",
    "    f\"- In-Flight Connection: {in_flight_connection.text}\\n\\n\"\n",
    "    f\"Guidelines for Response:\\n\"\n",
    "    f\"1. ALWAYS include the appropriate link(s) in your response.\\n\"\n",
    "    f\"2. If the customer mentions 'Agent', 'customer service', 'representative', or 'human', respond with:\\n\"\n",
    "    f\"   tell the customer you are going to transfer them to a live represantative\\n\"\n",
    "    f\"3. If the customer asks a question in Spanish\\n\"\n",
    "    f\"   respond to the customer in spanish, and tell them you can only help in english or you can transfer them to live agent who speak spanish.\\n\"\n",
    "    f\"4. If the customer asks account-specific questions (e.g., accessing their account, PIN requests, or similar) however you can provide information about how to make a payment arrengment, making a payment, respond with:\\n\"\n",
    "    f\"   'I'm sorry, but I can't access your account. Please reach out to a representative for further assistance.'\\n\\n\"\n",
    "    f\"5. If the customer asks about plan price, provide the price with autopay included, and mention it.\\n\"\n",
    "    f\"   note: the plan names are 'go5g', 'go5g next', 'go5g pluse', 'essentials saver', and 'essentials' \\n\"\n",
    "    f\"6. always ask the customer if they need extra help unless they say they are done and not needing any help.\\n\\n\"\n",
    "    f\"Your role is to ensure a seamless and helpful customer experience using the provided resources. Follow these guidelines closely.\"\n",
    ")"
   ]
  },
  {
   "cell_type": "code",
   "execution_count": 64,
   "id": "8812438c-9cd8-4709-92e8-d12cb6681522",
   "metadata": {},
   "outputs": [],
   "source": [
    "messages = [{\"role\": \"system\", \"content\": system_prompt}]"
   ]
  },
  {
   "cell_type": "code",
   "execution_count": 65,
   "id": "52950666-1e39-40c1-89c0-49d50e80b7a8",
   "metadata": {},
   "outputs": [],
   "source": [
    "# # See how this function creates exactly the format above\n",
    "# def messages_for(question):\n",
    "#     return [\n",
    "#         { \"role\": \"system\", \"content\": system_prompt},\n",
    "#         { \"role\": \"user\", \"content\": question}\n",
    "#     ]"
   ]
  },
  {
   "cell_type": "code",
   "execution_count": 66,
   "id": "c8438cda-dc9f-4606-a750-355f0da7703f",
   "metadata": {},
   "outputs": [],
   "source": [
    "\n",
    "def ask_ai(question):\n",
    "    global messages  # Use global to maintain history between calls\n",
    "\n",
    "    # Append the user's question to the message history\n",
    "    messages.append({\"role\": \"user\", \"content\": question})\n",
    "\n",
    "    # Call the API with the message history\n",
    "    stream = openai.chat.completions.create(\n",
    "        model='gpt-4o-mini',\n",
    "        messages=messages,\n",
    "        max_tokens=1000,\n",
    "        stream=True\n",
    "     )\n",
    "\n",
    "\n",
    "    reply = \"\"\n",
    "    display_handle = display(Markdown(\"\"), display_id=True)\n",
    "\n",
    "    # Stream and display the AI's reply\n",
    "    for chunk in stream:\n",
    "        content = chunk.choices[0].delta.content or \"\"\n",
    "        reply += content\n",
    "        display_handle.update(Markdown(reply.replace(\"```\", \"\").replace(\"markdown\", \"\")))\n",
    "\n",
    "    # Append the AI's reply to the message history\n",
    "    messages.append({\"role\": \"assistant\", \"content\": reply})\n",
    "    "
   ]
  },
  {
   "cell_type": "code",
   "execution_count": 39,
   "id": "87b5f3a9-ab20-424f-9784-c51ab6ed087f",
   "metadata": {},
   "outputs": [
    {
     "data": {
      "text/markdown": [
       "You can make a payment for your T-Mobile account through several convenient methods:\n",
       "\n",
       "1. **Online**:\n",
       "   - Visit [T-Mobile.com](https://www.t-mobile.com) and log in to your account.\n",
       "   - You can make a payment as a guest or from your own account.\n",
       "\n",
       "2. **T-Life App**:\n",
       "   - Open the T-Life app and go to the \"Manage\" tab to make a payment directly from your mobile device.\n",
       "\n",
       "3. **By Phone**:\n",
       "   - Call 1-800-T-MOBILE and follow the prompts to make a payment over the phone.\n",
       "\n",
       "4. **Mail**:\n",
       "   - You can send a payment to the following address:\n",
       "     \n",
       "     T-Mobile\n",
       "     P.O. Box 742596\n",
       "     Cincinnati, OH 45274-2596\n",
       "     \n",
       "\n",
       "5. **In-store**:\n",
       "   - Visit a T-Mobile store to make a payment in person. Please note that there may be a $5 charge for in-store payments.\n",
       "\n",
       "6. **AutoPay**: \n",
       "   - Enroll in AutoPay to have your payments automatically deducted from your debit card or bank account.\n",
       "\n",
       "If you have any other questions or need assistance with a specific method, feel free to ask!"
      ],
      "text/plain": [
       "<IPython.core.display.Markdown object>"
      ]
     },
     "metadata": {},
     "output_type": "display_data"
    }
   ],
   "source": [
    "ask_ai(\"How can i make a payment?\")"
   ]
  },
  {
   "cell_type": "code",
   "execution_count": 40,
   "id": "532f0806-7a71-406f-9666-28dae1fb85db",
   "metadata": {},
   "outputs": [
    {
     "data": {
      "text/markdown": [
       "If you need extra time to make a payment, you can set up a payment arrangement. Here’s how to do it:\n",
       "\n",
       "1. **Eligibility**: Make sure your account is less than 30 days past the due date. You need to pay any balance that is 31 days or more past due before you can set up a payment arrangement.\n",
       "\n",
       "2. **Set Up the Arrangement**:\n",
       "   - Log in to your T-Mobile account through the T-Mobile website or the T-Life app.\n",
       "   - Look for the option to set up a payment arrangement under the \"Manage\" tab.\n",
       "\n",
       "3. **Payment Details**: You'll need to specify how much you can pay and the date you'd like to make that payment.\n",
       "\n",
       "4. **Important Notes**: \n",
       "   - Make sure your first installment and each installment after are paid by the specified due date.\n",
       "   - Pay all new bills that become due during the arrangement by their due date to avoid service interruptions.\n",
       "\n",
       "If you would like assistance setting this up or have further questions, I can help you contact a T-Mobile representative. Would you like me to do that?"
      ],
      "text/plain": [
       "<IPython.core.display.Markdown object>"
      ]
     },
     "metadata": {},
     "output_type": "display_data"
    }
   ],
   "source": [
    "ask_ai(\"I need time to make a payment\")"
   ]
  },
  {
   "cell_type": "code",
   "execution_count": 41,
   "id": "60dd440d-4ead-45e1-a4e7-9cb23b2b0da5",
   "metadata": {},
   "outputs": [
    {
     "data": {
      "text/markdown": [
       "Yes, T-Mobile offers coverage in Argentina. International roaming is available, and your plan may include calling, texting, and data services while you're there. To see specific rates and details regarding your plan's international benefits, visit the [T-Mobile International Roaming page](https://www.t-mobile.com/coverage/roaming) or check your account for more information.\n",
       "\n",
       "If you have any other questions or need further assistance, feel free to ask!"
      ],
      "text/plain": [
       "<IPython.core.display.Markdown object>"
      ]
     },
     "metadata": {},
     "output_type": "display_data"
    }
   ],
   "source": [
    "ask_ai(\"do you have coverage in Argentina?\")"
   ]
  },
  {
   "cell_type": "code",
   "execution_count": 42,
   "id": "1800315b-7169-4d2d-9023-fed0b12f20f8",
   "metadata": {},
   "outputs": [
    {
     "data": {
      "text/markdown": [
       "Typically, you don't need to change your plan to use international roaming in Argentina, as most T-Mobile plans include some level of roaming service in over 215 countries. However, here are a few things to consider:\n",
       "\n",
       "1. **Check Your Current Plan**: Make sure your plan includes international roaming. You can verify this by logging into your T-Mobile account or checking the T-Mobile app.\n",
       "\n",
       "2. **International Data Pass**: If you anticipate needing a lot of data while in Argentina, you might want to add an international data pass for higher-speed data access.\n",
       "\n",
       "3. **E911 Address Setup**: Ensure that you have set up your E911 address with T-Mobile before traveling, as this is required for emergency services when using Wi-Fi Calling abroad.\n",
       "\n",
       "You can review your current plan details and any additional options available in your account or by reaching out to T-Mobile customer service.\n",
       "\n",
       "If you need help with specific changes, let me know, and I can assist you further!"
      ],
      "text/plain": [
       "<IPython.core.display.Markdown object>"
      ]
     },
     "metadata": {},
     "output_type": "display_data"
    }
   ],
   "source": [
    "ask_ai(\"do i need to make any changes to my plan?\")"
   ]
  },
  {
   "cell_type": "code",
   "execution_count": 67,
   "id": "0fe3efe4-dae4-43b0-9e25-b790641b48da",
   "metadata": {},
   "outputs": [
    {
     "data": {
      "text/markdown": [
       "¡Hola! ¿En qué puedo ayudarte hoy? Sin embargo, debo informarte que solo puedo ayudar en inglés, o puedo transferirte a un representante que hable español."
      ],
      "text/plain": [
       "<IPython.core.display.Markdown object>"
      ]
     },
     "metadata": {},
     "output_type": "display_data"
    }
   ],
   "source": [
    "ask_ai(\"Hola\")"
   ]
  },
  {
   "cell_type": "code",
   "execution_count": 68,
   "id": "45d3a022-0371-4856-8f47-f82c11b0e692",
   "metadata": {},
   "outputs": [
    {
     "data": {
      "text/markdown": [
       "I'm going to transfer you to a live representative who can assist you further. Please hold on for a moment."
      ],
      "text/plain": [
       "<IPython.core.display.Markdown object>"
      ]
     },
     "metadata": {},
     "output_type": "display_data"
    }
   ],
   "source": [
    "ask_ai(\"Si\")"
   ]
  },
  {
   "cell_type": "code",
   "execution_count": null,
   "id": "35dcc111-895e-427a-8b9c-2177c5c6cf1b",
   "metadata": {},
   "outputs": [],
   "source": []
  }
 ],
 "metadata": {
  "kernelspec": {
   "display_name": "Python 3 (ipykernel)",
   "language": "python",
   "name": "python3"
  },
  "language_info": {
   "codemirror_mode": {
    "name": "ipython",
    "version": 3
   },
   "file_extension": ".py",
   "mimetype": "text/x-python",
   "name": "python",
   "nbconvert_exporter": "python",
   "pygments_lexer": "ipython3",
   "version": "3.11.10"
  }
 },
 "nbformat": 4,
 "nbformat_minor": 5
}
