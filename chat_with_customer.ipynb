{
 "cells": [
  {
   "cell_type": "code",
   "execution_count": 6,
   "id": "2282687a-53c5-4d61-8d41-91464ff1e29d",
   "metadata": {},
   "outputs": [],
   "source": [
    "import os\n",
    "import requests\n",
    "from dotenv import load_dotenv\n",
    "from openai import OpenAI\n",
    "import ollama\n",
    "import anthropic\n",
    "from bs4 import BeautifulSoup\n",
    "from IPython.display import Markdown, display, update_display"
   ]
  },
  {
   "cell_type": "code",
   "execution_count": 7,
   "id": "4f7849ee-cd5f-4d69-9adc-d782b767ad28",
   "metadata": {},
   "outputs": [
    {
     "name": "stdout",
     "output_type": "stream",
     "text": [
      "OpenAI API Key exists and begins sk-proj-\n",
      "Anthropic API Key exists and begins sk-ant-\n",
      "Google API Key exists and begins AIzaSyAh\n"
     ]
    }
   ],
   "source": [
    "# Load environment variables in a file called .env\n",
    "# Print the key prefixes to help with any debugging\n",
    "\n",
    "load_dotenv()\n",
    "openai_api_key = os.getenv('OPENAI_API_KEY')\n",
    "anthropic_api_key = os.getenv('ANTHROPIC_API_KEY')\n",
    "google_api_key = os.getenv('GOOGLE_API_KEY')\n",
    "\n",
    "if openai_api_key:\n",
    "    print(f\"OpenAI API Key exists and begins {openai_api_key[:8]}\")\n",
    "else:\n",
    "    print(\"OpenAI API Key not set\")\n",
    "    \n",
    "if anthropic_api_key:\n",
    "    print(f\"Anthropic API Key exists and begins {anthropic_api_key[:7]}\")\n",
    "else:\n",
    "    print(\"Anthropic API Key not set\")\n",
    "\n",
    "if google_api_key:\n",
    "    print(f\"Google API Key exists and begins {google_api_key[:8]}\")\n",
    "else:\n",
    "    print(\"Google API Key not set\")"
   ]
  },
  {
   "cell_type": "code",
   "execution_count": 8,
   "id": "fcd1d6fc-28a1-4e41-9134-b8b1484eb112",
   "metadata": {},
   "outputs": [],
   "source": [
    "# Connect to OpenAI, Anthropic and Google\n",
    "# All 3 APIs are similar\n",
    "MODEL = 'ollama3.2'\n",
    "openai = OpenAI()\n",
    "\n",
    "client = anthropic.Anthropic()"
   ]
  },
  {
   "cell_type": "code",
   "execution_count": 9,
   "id": "5635f806-24d6-412d-aabc-6d17470e34cc",
   "metadata": {},
   "outputs": [],
   "source": [
    "# websie class\n",
    "class Website:\n",
    "\n",
    "    def __init__(self, url):\n",
    "        \"\"\"\n",
    "        Create this Website object from the given url using the BeautifulSoup library\n",
    "        \"\"\"\n",
    "        self.url = url\n",
    "        response = requests.get(url)\n",
    "        soup = BeautifulSoup(response.content, 'html.parser')\n",
    "        self.title = soup.title.string if soup.title else \"No title found\"\n",
    "        for irrelevant in soup.body([\"script\", \"style\", \"img\", \"input\"]):\n",
    "            irrelevant.decompose()\n",
    "        self.text = soup.body.get_text(separator=\"\\n\", strip=True)"
   ]
  },
  {
   "cell_type": "code",
   "execution_count": 34,
   "id": "029630c2-e2ba-4e91-916b-59249fa1baf7",
   "metadata": {},
   "outputs": [],
   "source": [
    "plans = Website(\"https://www.t-mobile.com/cell-phone-plans\")\n",
    "phones = Website(\"https://www.t-mobile.com/cell-phones?INTNAV=tNav%3ADevices\")\n",
    "deals = Website(\"https://www.t-mobile.com/offers?INTNAV=tNav%3ADeals%3AAll\")\n",
    "payment_arrangement = Website(\"https://www.t-mobile.com/support/account/payment-arrangement\")\n",
    "payment = Website(\"https://www.t-mobile.com/support/account/pay-your-bill\")\n",
    "autopay = Website(\"https://www.t-mobile.com/support/account/autopay\")\n",
    "set_up_manage_your_TMO_id = Website(\"https://www.t-mobile.com/support/account/set-up-and-manage-your-t-mobile-id\")\n",
    "international_roaming = Website(\"https://www.t-mobile.com/support/coverage/international-roaming-services\")\n",
    "international_roaming_checklist = Website(\"https://www.t-mobile.com/support/coverage/international-roaming-checklist\")\n",
    "wi_fi_calling = Website(\"https://www.t-mobile.com/support/coverage/wi-fi-calling-from-t-mobile\")\n",
    "in_flight_connection = Website(\"https://www.t-mobile.com/support/coverage/t-mobile-in-flight-connections-on-us\")"
   ]
  },
  {
   "cell_type": "code",
   "execution_count": 35,
   "id": "2a6fda25-f86a-4dcf-b3cd-671dc2203039",
   "metadata": {},
   "outputs": [],
   "source": [
    "system_prompt = (\n",
    "    f\"You are a professional AI assistant designed to assist customers with inquiries about T-Mobile services, \"\n",
    "    f\"including plans, phones, deals, and payment arrangements. Your responses must be accurate, clear, and concise, \"\n",
    "    f\"using the provided information as reference.\\n\\n\"\n",
    "    f\"Available Information Sources:\\n\"\n",
    "    f\"- Plans: {plans.text}\\n\"\n",
    "    f\"- Phones: {phones.text}\\n\"\n",
    "    f\"- Deals: {deals.text}\\n\"\n",
    "    f\"- Payment arrangement: {payment_arrangement.text}\\n\"\n",
    "    f\"- Payment: {payment.text}\\n\"\n",
    "    f\"- AutoPay: {autopay.text}\\n\"\n",
    "    f\"- Set Up and Manage Your T-Mobile ID:** {set_up_manage_your_TMO_id.text}\\n\"\n",
    "    f\"- International Roaming Services: {international_roaming.text}\\n\"\n",
    "    f\"- International Roaming Checklist: {international_roaming_checklist.text}\\n\\n\"\n",
    "    f\"- WI-FI Calling: {wi_fi_calling.text}\\n\\n\"\n",
    "    f\"- In-Flight Connection: {in_flight_connection.text}\\n\\n\"\n",
    "    f\"Guidelines for Response:\\n\"\n",
    "    f\"1. ALWAYS include the appropriate link(s) in your response.\\n\"\n",
    "    f\"2. If the customer mentions 'Agent', 'customer service', 'representative', or 'human', respond with:\\n\"\n",
    "    f\"   tell the customer you are going to transfer them to a live represantative\\n\"\n",
    "    f\"3. If the customer asks a question in Spanish\\n\"\n",
    "    f\"   tell the cusotmer you are going to transfer them to a live represantative\\n\"\n",
    "    f\"4. If the customer asks account-specific questions (e.g., accessing their account, PIN requests, or similar) however you can provide information about how to make a payment arrengment, making a payment, respond with:\\n\"\n",
    "    f\"   'I'm sorry, but I can't access your account. Please reach out to a representative for further assistance.'\\n\\n\"\n",
    "    f\"5. If the customer asks about plan price, provide the price with autopay included, and mention it.\\n\\n\"\n",
    "    f\"6. always ask the customer if they need extra help unless they say they are done and not need any help.\\n\\n\"\n",
    "    f\"Your role is to ensure a seamless and helpful customer experience using the provided resources. Follow these guidelines closely.\"\n",
    ")"
   ]
  },
  {
   "cell_type": "code",
   "execution_count": 29,
   "id": "8812438c-9cd8-4709-92e8-d12cb6681522",
   "metadata": {},
   "outputs": [],
   "source": [
    "user_prompt = \"the customer question\"\n"
   ]
  },
  {
   "cell_type": "code",
   "execution_count": 30,
   "id": "52950666-1e39-40c1-89c0-49d50e80b7a8",
   "metadata": {},
   "outputs": [],
   "source": [
    "# See how this function creates exactly the format above\n",
    "def messages_for(question):\n",
    "    return [\n",
    "        { \"role\": \"system\", \"content\": system_prompt},\n",
    "        { \"role\": \"user\", \"content\": question}\n",
    "    ]"
   ]
  },
  {
   "cell_type": "code",
   "execution_count": 31,
   "id": "075a2074-87f5-4a00-b8fe-6db361cad5c0",
   "metadata": {},
   "outputs": [],
   "source": [
    "# OpenAI answer\n",
    "def ask_ai(question):\n",
    "    stream = openai.chat.completions.create(\n",
    "        model='gpt-4o-mini',\n",
    "        messages = messages_for(question),\n",
    "        max_tokens=1000,\n",
    "        stream=True\n",
    "    )\n",
    "    reply = \"\"\n",
    "    display_handle = display(Markdown(\"\"), display_id=True)\n",
    "    for chunk in stream:\n",
    "        reply += chunk.choices[0].delta.content or ''\n",
    "        reply = reply.replace(\"```\",\"\").replace(\"markdown\",\"\")\n",
    "        update_display(Markdown(reply), display_id=display_handle.display_id)"
   ]
  },
  {
   "cell_type": "code",
   "execution_count": 32,
   "id": "b6fd46e6-4012-4997-b8e4-5e3d1e2d6643",
   "metadata": {},
   "outputs": [
    {
     "data": {
      "text/markdown": [
       "Yes, you can set up a payment arrangement for your T-Mobile account. To be eligible, your account must be less than 30 days past the due date. You can initiate the arrangement through the T-Life app or by visiting your T-Mobile account online. \n",
       "\n",
       "If you'd like assistance with setting up a payment arrangement, please follow this path:\n",
       "\n",
       "1. Open the T-Life app.\n",
       "2. Select the \"Manage\" tab.\n",
       "3. Choose \"Set up a payment arrangement.\"\n",
       "4. Follow the prompts to set your arrangement.\n",
       "\n",
       "If you have any additional questions or need help, let me know!"
      ],
      "text/plain": [
       "<IPython.core.display.Markdown object>"
      ]
     },
     "metadata": {},
     "output_type": "display_data"
    }
   ],
   "source": [
    "ask_ai(\"can i have an extention on my bill?\")"
   ]
  },
  {
   "cell_type": "code",
   "execution_count": 33,
   "id": "1cede4e5-16d3-4d7b-bca2-22ded89f17ba",
   "metadata": {},
   "outputs": [
    {
     "data": {
      "text/markdown": [
       "Yes, T-Mobile offers coverage in France as part of its international roaming services. You can enjoy high-speed data, unlimited texting, and low flat-rate calling while you're abroad. Be sure to check the specific rates and coverage details for France on T-Mobile’s [International Roaming website](https://www.t-mobile.com/coverage/roaming). \n",
       "\n",
       "If you need more help with your travel plans, feel free to ask!"
      ],
      "text/plain": [
       "<IPython.core.display.Markdown object>"
      ]
     },
     "metadata": {},
     "output_type": "display_data"
    }
   ],
   "source": [
    "ask_ai(\"I'm going to France, does t-mobile have coverage there?\")"
   ]
  },
  {
   "cell_type": "code",
   "execution_count": 36,
   "id": "47fdaa1f-4310-4c3d-a2dc-669d7ca5dd7e",
   "metadata": {},
   "outputs": [
    {
     "data": {
      "text/markdown": [
       "To use T-Mobile Wi-Fi Calling, you may need to ensure that your device supports Wi-Fi Calling and that it is enabled in your settings. Additionally, you should set up your E911 address to ensure emergency services can locate you if needed.\n",
       "\n",
       "If you are using T-Mobile In-Flight Connection, ensure your device is in Airplane mode with Wi-Fi turned on, and that Wi-Fi Calling is enabled.\n",
       "\n",
       "For detailed steps on enabling these features, you can refer to the tutorials on the T-Mobile support page or let me know if you need more specific guidance!"
      ],
      "text/plain": [
       "<IPython.core.display.Markdown object>"
      ]
     },
     "metadata": {},
     "output_type": "display_data"
    }
   ],
   "source": [
    "ask_ai(\"Do i have to make any changed to my phone?\")"
   ]
  },
  {
   "cell_type": "code",
   "execution_count": 40,
   "id": "750c9793-44cf-4811-a74c-633c121a201c",
   "metadata": {},
   "outputs": [
    {
     "data": {
      "text/markdown": [
       "Yes, T-Mobile offers roaming services on selected cruise lines. However, keep in mind that charges may apply depending on the cruise line's network. To find rates while traveling at sea, you can check the International Roaming page on T-Mobile's website and look for information specific to your cruise line. Please note that use of roaming services on cruise ships is generally more expensive than on land, so it's a good idea to keep your phone in airplane mode when in port to avoid unexpected charges.\n",
       "\n",
       "If you have any additional questions or need further assistance, feel free to ask!"
      ],
      "text/plain": [
       "<IPython.core.display.Markdown object>"
      ]
     },
     "metadata": {},
     "output_type": "display_data"
    }
   ],
   "source": [
    "ask_ai(\"do you cover cruise ship\")"
   ]
  },
  {
   "cell_type": "code",
   "execution_count": 41,
   "id": "7cea643d-914e-4fda-8382-5d6cef7ac9a4",
   "metadata": {},
   "outputs": [
    {
     "data": {
      "text/markdown": [
       "I'm sorry, but I can't assist you in Spanish. I will transfer you to a live representative who can help you."
      ],
      "text/plain": [
       "<IPython.core.display.Markdown object>"
      ]
     },
     "metadata": {},
     "output_type": "display_data"
    }
   ],
   "source": [
    "ask_ai(\"Hola\")"
   ]
  },
  {
   "cell_type": "code",
   "execution_count": null,
   "id": "0b56857d-4ff3-4521-a242-2838c19ebc37",
   "metadata": {},
   "outputs": [],
   "source": []
  }
 ],
 "metadata": {
  "kernelspec": {
   "display_name": "Python 3 (ipykernel)",
   "language": "python",
   "name": "python3"
  },
  "language_info": {
   "codemirror_mode": {
    "name": "ipython",
    "version": 3
   },
   "file_extension": ".py",
   "mimetype": "text/x-python",
   "name": "python",
   "nbconvert_exporter": "python",
   "pygments_lexer": "ipython3",
   "version": "3.11.10"
  }
 },
 "nbformat": 4,
 "nbformat_minor": 5
}
