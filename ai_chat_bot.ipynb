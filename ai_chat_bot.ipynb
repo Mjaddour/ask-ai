{
 "cells": [
  {
   "cell_type": "code",
   "execution_count": 41,
   "id": "d0dbddca-0d32-4448-9785-23e4e0d4fa18",
   "metadata": {},
   "outputs": [],
   "source": [
    "import os\n",
    "import requests\n",
    "from dotenv import load_dotenv\n",
    "from openai import OpenAI\n",
    "from bs4 import BeautifulSoup\n",
    "from IPython.display import Markdown, display, update_display\n",
    "import gradio as gr"
   ]
  },
  {
   "cell_type": "code",
   "execution_count": 71,
   "id": "1a88156b-dd84-4224-a3e7-8a8f9beab8c0",
   "metadata": {},
   "outputs": [
    {
     "name": "stdout",
     "output_type": "stream",
     "text": [
      "OpenAI API Key exists and begins sk-proj-\n"
     ]
    }
   ],
   "source": [
    "# Load environment variables in a file called .env\n",
    "# Print the key prefixes to help with any debugging\n",
    "\n",
    "load_dotenv()\n",
    "openai_api_key = os.getenv('OPENAI_API_KEY')\n",
    "\n",
    "if openai_api_key:\n",
    "    print(f\"OpenAI API Key exists and begins {openai_api_key[:8]}\")\n",
    "else:\n",
    "    print(\"OpenAI API Key not set\")\n"
   ]
  },
  {
   "cell_type": "code",
   "execution_count": 72,
   "id": "42db8c4b-abce-4809-a277-07652b3ba357",
   "metadata": {},
   "outputs": [],
   "source": [
    "# Connect to OpenAI, Anthropic and Google\n",
    "# All 3 APIs are similar\n",
    "MODEL = 'gpt-4o-mini'\n",
    "openai = OpenAI()"
   ]
  },
  {
   "cell_type": "code",
   "execution_count": 73,
   "id": "9ba91041-284f-49f9-956b-f8d2e04c30b5",
   "metadata": {},
   "outputs": [],
   "source": [
    "# websie class to clean the websites\n",
    "class Website:\n",
    "\n",
    "    def __init__(self, url):\n",
    "        \n",
    "        self.url = url\n",
    "        response = requests.get(url)\n",
    "        soup = BeautifulSoup(response.content, 'html.parser')\n",
    "        self.title = soup.title.string if soup.title else \"No title found\"\n",
    "        for irrelevant in soup.body([\"script\", \"style\", \"img\", \"input\"]):\n",
    "            irrelevant.decompose()\n",
    "        self.text = soup.body.get_text(separator=\"\\n\", strip=True)"
   ]
  },
  {
   "cell_type": "code",
   "execution_count": 74,
   "id": "4bb2a8b7-fd01-4fc9-9c7b-845009f12743",
   "metadata": {},
   "outputs": [],
   "source": [
    "# Scrape list\n",
    "plans = Website(\"https://www.t-mobile.com/cell-phone-plans\")\n",
    "phones = Website(\"https://www.t-mobile.com/cell-phones?INTNAV=tNav%3ADevices\")\n",
    "deals = Website(\"https://www.t-mobile.com/offers?INTNAV=tNav%3ADeals%3AAll\")\n",
    "payment_arrangement = Website(\"https://www.t-mobile.com/support/account/payment-arrangement\")\n",
    "payment = Website(\"https://www.t-mobile.com/support/account/pay-your-bill\")\n",
    "autopay = Website(\"https://www.t-mobile.com/support/account/autopay\")\n",
    "set_up_manage_your_TMO_id = Website(\"https://www.t-mobile.com/support/account/set-up-and-manage-your-t-mobile-id\")\n",
    "international_roaming = Website(\"https://www.t-mobile.com/support/coverage/international-roaming-services\")\n",
    "international_roaming_checklist = Website(\"https://www.t-mobile.com/support/coverage/international-roaming-checklist\")\n",
    "wi_fi_calling = Website(\"https://www.t-mobile.com/support/coverage/wi-fi-calling-from-t-mobile\")\n",
    "data_pass = Website(\"https://www.t-mobile.com/cell-phone-plans/international-roaming-plans/unlimited-calling-data-pass\")\n",
    "in_flight_connection = Website(\"https://www.t-mobile.com/support/coverage/t-mobile-in-flight-connections-on-us\")\n",
    "netflix_on_us = Website(\"https://www.t-mobile.com/support/plans-features/netflix-on-us\")\n",
    "netflix_on_us_qna = Website(\"https://www.t-mobile.com/tv-streaming/netflix-on-us\")\n",
    "apple_tv_plus = Website(\"https://www.t-mobile.com/support/plans-features/apple-tv\")\n",
    "apple_tv_plus_qna = Website(\"https://www.t-mobile.com/tv-streaming/apple-tv-plus-deal/faq\")\n",
    "\n"
   ]
  },
  {
   "cell_type": "code",
   "execution_count": 75,
   "id": "5baca944-ed76-40c8-aa93-302e4733a638",
   "metadata": {},
   "outputs": [],
   "source": [
    "# Inquiries\n",
    "plans_inquiries = f\"Please provide information about the plans T-Mobile offers with the benefits and the pricing with autopay, use {plans.text} as a source. \\\n",
    "Start with the plan that has the best value. If the customer is asking about a specific plan, provide information about that specific plan.\"\n",
    "\n",
    "phone_inquiries = f\"Please provide information about the phone the customer is asking about, also add any related offers that would apply to the phone, use {phones.text}.\"\n",
    "\n",
    "deal_inquiries = f\"Please provide the best offers that T-Mobile has, be enthusiastic such as 'That's great!', use {deals.text} as a source.\"\n",
    "\n",
    "payment_inquiries = f\"Please provide information about how to pay bills through T-Mobile, use {payment.text}.\"\n",
    "\n",
    "autopay_inquiries = f\"Please provide information about how to set autopay, or any autopay related inqueries, use {autopay.text}.\"\n",
    "\n",
    "payment_arrangement_inquiries = f\"Please provide information about payment arrangement if the customer is having issues paying their bill, and always display the conditions mentioned in {payment_arrangement.text}.\"\n",
    "\n",
    "set_up_manage_your_TMO_id_inquiries = f\"Please provide information about setting up or managing a T-Mobile ID, use {set_up_manage_your_TMO_id.text}.\"\n",
    "\n",
    "international_roaming_inquiries = f\"Please provide information about international roaming services offered by T-Mobile, use {international_roaming.text} as a source.\"\n",
    "\n",
    "international_roaming_checklist_inquiries = f\"Please provide details from the international roaming checklist, include all necessary steps for customers traveling internationally, use {international_roaming_checklist.text}.\"\n",
    "\n",
    "wi_fi_calling_inquiries = f\"Please provide information about Wi-Fi calling from T-Mobile, including how to set it up and its benefits, use {wi_fi_calling.text}.\"\n",
    "\n",
    "data_pass_inquiries = f\"Please provide information about unlimited calling and data pass plans for international roaming, use {data_pass.text}.\"\n",
    "\n",
    "in_flight_connection_inquiries = f\"Please provide details about in-flight connection services offered by T-Mobile, use {in_flight_connection.text}.\"\n",
    "\n",
    "netflix_on_us_inquiries = f\"Please provide information about Netflix On Us, including eligibility and activation details, use {netflix_on_us.text} and {netflix_on_us_qna.text} as sources.\"\n",
    "\n",
    "apple_tv_plus_inquiries = f\"Please provide details about Apple TV+ offers, including how customers can activate the offer, use {apple_tv_plus.text} and {apple_tv_plus_qna.text}.\""
   ]
  },
  {
   "cell_type": "code",
   "execution_count": 86,
   "id": "70170749-5081-4f39-a934-74b3dd7e9688",
   "metadata": {},
   "outputs": [],
   "source": [
    "# Bot instructions\n",
    "system_prompt = (\n",
    "    f\"You are a professional AI assistant designed to assist customers with inquiries about T-Mobile services. \"\n",
    "    f\"Please follow the Guidelines for Response below:\\n\\n\"\n",
    "    f\"1. ALWAYS include the appropriate link(s) in your response.\\n\"\n",
    "    f\"2. ALWAYS refer to T-Mobile app as 'T-Life'.\\n\"\n",
    "    f\"2. Be empathetic if the customer is experiencing any issues.\\n\"\n",
    "    f\"3. If the customer mentions 'Agent', 'customer service', 'representative', or 'human':\\n\"\n",
    "    f\"   Inform the customer that you will transfer them to a live representative and STOP responding.\\n\"\n",
    "    f\"4. If the customer asks a question in Spanish:\\n\"\n",
    "    f\"   Respond in Spanish, informing them that you can only assist in English or transfer them to a live agent who speaks Spanish. Then STOP responding.\\n\"\n",
    "    f\"5. If the customer asks account-specific questions (e.g., accessing their account, PIN requests, Port-out PIN):\\n\"\n",
    "    f\"   Apologize and explain that you cannot access their account, but you can transfer them to a representative for further assistance. For example:\\n\"\n",
    "    f\"   'I'm sorry, but I can't access your account. I can transfer you to a representative for further assistance.'\\n\\n\"\n",
    "    f\"6. Always ask the customer if they need additional help unless they explicitly state they are done and no longer need assistance.\\n\\n\"\n",
    "    f\"7. If you can't find the information the customer is looking for, transfer the customer.\\n\\n\"\n",
    "    f\"Your role is to ensure a seamless and helpful customer experience using the provided resources. Follow these guidelines closely and use the information provided as a reference.\\n\\n\"\n",
    "    f\"Available Information Sources:\\n\"\n",
    "    f\"- Plans: {plans_inquiries}\\n\"\n",
    "    f\"- Phones: {phone_inquiries}\\n\"\n",
    "    f\"- Deals: {deal_inquiries}\\n\"\n",
    "    f\"- Payment Arrangements: {payment_arrangement_inquiries}\\n\"\n",
    "    f\"- Payments: {payment_inquiries}\\n\"\n",
    "    f\"- AutoPay: {autopay_inquiries}\\n\"\n",
    "    f\"- Set Up and Manage Your T-Mobile ID: {set_up_manage_your_TMO_id_inquiries}\\n\"\n",
    "    f\"- International Roaming Services: {international_roaming_inquiries}\\n\"\n",
    "    f\"- International Roaming Checklist: {international_roaming_checklist_inquiries}\\n\"\n",
    "    f\"- International Data Pass: {data_pass_inquiries}\\n\"\n",
    "    f\"- Wi-Fi Calling: {wi_fi_calling_inquiries}\\n\"\n",
    "    f\"- In-Flight Connection: {in_flight_connection_inquiries}\\n\"\n",
    "    f\"- Netflix On Us: {netflix_on_us_inquiries}\\n\"\n",
    "    f\"- Apple TV+: {apple_tv_plus_inquiries}\\n\"\n",
    ")\n"
   ]
  },
  {
   "cell_type": "code",
   "execution_count": 87,
   "id": "e8de4034-2fea-40ad-a66d-f264b9810c91",
   "metadata": {},
   "outputs": [],
   "source": [
    "# API call\n",
    "def chat(message, history):\n",
    "    messages = [{\"role\": \"system\", \"content\": system_prompt}] + history + [{\"role\": \"user\", \"content\": message}]\n",
    "\n",
    "    stream = openai.chat.completions.create(\n",
    "        model=MODEL, \n",
    "        messages=messages,\n",
    "        max_tokens=1000,\n",
    "        stream=True)\n",
    "\n",
    "    response = \"\"\n",
    "    for chunk in stream:\n",
    "        response += chunk.choices[0].delta.content or ''\n",
    "        yield response"
   ]
  },
  {
   "cell_type": "code",
   "execution_count": 88,
   "id": "50926ff1-5716-428e-9c3d-113c45577614",
   "metadata": {},
   "outputs": [
    {
     "name": "stdout",
     "output_type": "stream",
     "text": [
      "* Running on local URL:  http://127.0.0.1:7897\n",
      "\n",
      "To create a public link, set `share=True` in `launch()`.\n"
     ]
    },
    {
     "data": {
      "text/html": [
       "<div><iframe src=\"http://127.0.0.1:7897/\" width=\"100%\" height=\"500\" allow=\"autoplay; camera; microphone; clipboard-read; clipboard-write;\" frameborder=\"0\" allowfullscreen></iframe></div>"
      ],
      "text/plain": [
       "<IPython.core.display.HTML object>"
      ]
     },
     "metadata": {},
     "output_type": "display_data"
    },
    {
     "data": {
      "text/plain": []
     },
     "execution_count": 88,
     "metadata": {},
     "output_type": "execute_result"
    }
   ],
   "source": [
    "# UI by Gradio\n",
    "gr.ChatInterface(fn=chat, type=\"messages\", ).launch()"
   ]
  },
  {
   "cell_type": "code",
   "execution_count": null,
   "id": "a3c56ff2-2cac-44bb-b943-2e0b175a0320",
   "metadata": {},
   "outputs": [],
   "source": []
  }
 ],
 "metadata": {
  "kernelspec": {
   "display_name": "Python 3 (ipykernel)",
   "language": "python",
   "name": "python3"
  },
  "language_info": {
   "codemirror_mode": {
    "name": "ipython",
    "version": 3
   },
   "file_extension": ".py",
   "mimetype": "text/x-python",
   "name": "python",
   "nbconvert_exporter": "python",
   "pygments_lexer": "ipython3",
   "version": "3.11.10"
  }
 },
 "nbformat": 4,
 "nbformat_minor": 5
}
